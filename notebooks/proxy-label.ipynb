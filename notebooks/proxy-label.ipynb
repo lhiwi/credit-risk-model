{
 "cells": [
  {
   "cell_type": "markdown",
   "id": "f10a5908",
   "metadata": {},
   "source": [
    "proxy-target variable engineering"
   ]
  }
 ],
 "metadata": {
  "language_info": {
   "name": "python"
  }
 },
 "nbformat": 4,
 "nbformat_minor": 5
}
