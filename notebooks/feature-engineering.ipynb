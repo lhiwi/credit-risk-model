{
 "cells": [
  {
   "cell_type": "markdown",
   "id": "7ba03718",
   "metadata": {},
   "source": [
    "Feature-engineering"
   ]
  }
 ],
 "metadata": {
  "language_info": {
   "name": "python"
  }
 },
 "nbformat": 4,
 "nbformat_minor": 5
}
